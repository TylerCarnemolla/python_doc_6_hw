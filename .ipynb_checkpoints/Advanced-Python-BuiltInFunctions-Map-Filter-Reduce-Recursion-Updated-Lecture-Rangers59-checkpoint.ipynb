{
 "cells": [
  {
   "cell_type": "markdown",
   "metadata": {},
   "source": [
    "# Map, Filter, Reduce, Lambda & Recursion"
   ]
  },
  {
   "cell_type": "markdown",
   "metadata": {},
   "source": [
    "## Tasks Today:\n",
    "\n",
    "1) <b>Lambda Functions</b> <br>\n",
    " &nbsp;&nbsp;&nbsp;&nbsp; a) Syntax <br>\n",
    " &nbsp;&nbsp;&nbsp;&nbsp; b) Saving to a Variable <br>\n",
    " &nbsp;&nbsp;&nbsp;&nbsp; c) Multiple Inputs <br>\n",
    " &nbsp;&nbsp;&nbsp;&nbsp; d) Passing a Lambda into a Function <br>\n",
    " &nbsp;&nbsp;&nbsp;&nbsp; e) Returning a Lambda from a Function <br>\n",
    " &nbsp;&nbsp;&nbsp;&nbsp; f) In-Class Exercise #1 <br>\n",
    "2) <b>Map</b> <br>\n",
    " &nbsp;&nbsp;&nbsp;&nbsp; a) Syntax <br>\n",
    " &nbsp;&nbsp;&nbsp;&nbsp; b) Using Lambda's with Map <br>\n",
    " &nbsp;&nbsp;&nbsp;&nbsp; c) In-Class Exercise #2 <br>\n",
    "3) <b>Filter</b> <br>\n",
    " &nbsp;&nbsp;&nbsp;&nbsp; a) Syntax <br>\n",
    " &nbsp;&nbsp;&nbsp;&nbsp; b) Using Lambda's with Filter <br>\n",
    " &nbsp;&nbsp;&nbsp;&nbsp; c) In-Class Exercise #3 <br>\n",
    "4) <b>Reduce</b> <br>\n",
    " &nbsp;&nbsp;&nbsp;&nbsp; a) Syntax <br>\n",
    " &nbsp;&nbsp;&nbsp;&nbsp; b) Using Lambda's with Reduce <br>\n",
    " &nbsp;&nbsp;&nbsp;&nbsp; c) In-Class Exercise #4 <br>\n",
    "5) <b>Recursion</b> <br>\n",
    " &nbsp;&nbsp;&nbsp;&nbsp; a) Implementing a Base <br>\n",
    " &nbsp;&nbsp;&nbsp;&nbsp; b) Writing a Factorial Function <br>\n",
    " &nbsp;&nbsp;&nbsp;&nbsp; c) In-Class Exercise #5 <br>\n",
    "6) <b>Generators & Iterators</b> <br>\n",
    " &nbsp;&nbsp;&nbsp;&nbsp; a) Yield Keyword <br>\n",
    " &nbsp;&nbsp;&nbsp;&nbsp; b) Inifinite Generator <br>\n",
    " &nbsp;&nbsp;&nbsp;&nbsp; c) In-Class Exercise #6 <br>\n",
    "7) <b>Exercises</b> <br>\n",
    " &nbsp;&nbsp;&nbsp;&nbsp; a) Exercise #1 - Filtering Empty Strings <br>\n",
    " &nbsp;&nbsp;&nbsp;&nbsp; b) Exercise #2 - Sorting with Last Name <br>\n",
    " &nbsp;&nbsp;&nbsp;&nbsp; c) Exercise #3 - Conversion to Farhenheit <br>\n",
    " &nbsp;&nbsp;&nbsp;&nbsp; d) Exercise #4 - Fibonacci Sequence <br>"
   ]
  },
  {
   "cell_type": "markdown",
   "metadata": {},
   "source": [
    "## Lambda Functions <br>\n",
    "<p>Lambda functions... or \"Anonymous Functions\" are referring to inline functions with no name. The keyword lambda denotes the no name function, and executes within a single line. Without saving it to a variable; however, it is not able to be used, unless passed in either as a paramater or within list comprehension.<br>Written as \"(keyword lambda) (one or more inputs) (colon) (function to be executed)\"</p>"
   ]
  },
  {
   "cell_type": "markdown",
   "metadata": {},
   "source": [
    "#### Syntax"
   ]
  },
  {
   "cell_type": "code",
   "execution_count": 4,
   "metadata": {},
   "outputs": [
    {
     "name": "stdout",
     "output_type": "stream",
     "text": [
      "7\n",
      "7\n",
      "7\n"
     ]
    }
   ],
   "source": [
    "def addtwo(x):\n",
    "    return x+2\n",
    "print(addtwo(5))\n",
    "\n",
    "#the lambda version....\n",
    "#without using a variable (g= somthing) to pass in data\n",
    "\n",
    "print((lambda x: x+2)(5)) #lambda sets x ==5 and runs the function\n",
    "\n",
    "#using a variable\n",
    "\n",
    "num=4\n",
    "print((lambda x: x+3)(num))\n",
    "\n",
    "#### Lambda basicaly says \"put your variable here! its a reciever for a function\""
   ]
  },
  {
   "cell_type": "markdown",
   "metadata": {},
   "source": [
    "#### Saving to a Variable"
   ]
  },
  {
   "cell_type": "code",
   "execution_count": 6,
   "metadata": {},
   "outputs": [
    {
     "data": {
      "text/plain": [
       "6"
      ]
     },
     "execution_count": 6,
     "metadata": {},
     "output_type": "execute_result"
    }
   ],
   "source": [
    "f_test = lambda x: x+2\n",
    "\n",
    "f_test(4)"
   ]
  },
  {
   "cell_type": "markdown",
   "metadata": {},
   "source": [
    "#### Multiple Inputs"
   ]
  },
  {
   "cell_type": "code",
   "execution_count": 15,
   "metadata": {},
   "outputs": [
    {
     "name": "stdout",
     "output_type": "stream",
     "text": [
      "3696\n",
      "120\n"
     ]
    }
   ],
   "source": [
    "#multiple inputs with no variable\n",
    "print((lambda x, y, z: x * y * z)(6, 8 , 77))\n",
    "\n",
    "#multiple inputs with a variable attatched\n",
    "x=lambda x, y, z: x * y * z\n",
    "print(x(3,5,8))"
   ]
  },
  {
   "cell_type": "markdown",
   "metadata": {},
   "source": [
    "#### Passing a Lambda into a Function"
   ]
  },
  {
   "cell_type": "code",
   "execution_count": 13,
   "metadata": {},
   "outputs": [
    {
     "data": {
      "text/plain": [
       "3"
      ]
     },
     "execution_count": 13,
     "metadata": {},
     "output_type": "execute_result"
    }
   ],
   "source": [
    "def multiply(f, num):\n",
    "    return f(num)\n",
    "def subtraction(t,num):\n",
    "    return t(num)\n",
    "    \"\"\"\n",
    "        f expects a lmbda funtion\n",
    "        num expects a number\n",
    "    \"\"\"\n",
    "multiply(lambda x: x*x, 4)\n",
    "multiply(lambda x: x*x,7)\n",
    "subtraction(lambda x: 8-x,5)"
   ]
  },
  {
   "cell_type": "markdown",
   "metadata": {},
   "source": [
    "#### Returning a Lambda from a Function"
   ]
  },
  {
   "cell_type": "code",
   "execution_count": 21,
   "metadata": {},
   "outputs": [
    {
     "name": "stdout",
     "output_type": "stream",
     "text": [
      "<function returnfunc.<locals>.multiply at 0x0000026977E35760>\n",
      "10\n",
      "19\n"
     ]
    }
   ],
   "source": [
    "# regular defined function\n",
    "def multiply_test(num):\n",
    "    return num * 4\n",
    "\n",
    "#function within a function:\n",
    "def returnfunc():\n",
    "    test = 4\n",
    "    def multiply(num):\n",
    "        return num *2\n",
    "    return multiply\n",
    "f_return=returnfunc()\n",
    "\n",
    "print(returnfunc())\n",
    "print(f_return(5)) #this is a lot of writing and is unesseccary\n",
    "\n",
    "#lambda function returned from a regular function\n",
    "def returnLam(b,c):\n",
    "    return lambda x, a: x+a+b+c #we put a lambda function within a function\n",
    "r_lamb = returnLam(4,5) #we preset b and c as they are constants\n",
    "\n",
    "print(r_lamb(5,5)) #all thats left is b and c"
   ]
  },
  {
   "cell_type": "markdown",
   "metadata": {},
   "source": [
    "#### If Statements within Lambdas"
   ]
  },
  {
   "cell_type": "code",
   "execution_count": 24,
   "metadata": {},
   "outputs": [
    {
     "name": "stdout",
     "output_type": "stream",
     "text": [
      "11\n"
     ]
    }
   ],
   "source": [
    "# lambda x: True if (condition) else false\n",
    "f_condition = lambda num : num * 2 if num >10 else num +2\n",
    "\n",
    "print(f_condition(9))"
   ]
  },
  {
   "cell_type": "markdown",
   "metadata": {},
   "source": [
    "#### In-Class Exercise #1 <br>\n",
    "<p>Write an anonymous function that cubes the arguments passed in and assign the anonymous function to a variable 'f'.</p>"
   ]
  },
  {
   "cell_type": "code",
   "execution_count": 30,
   "metadata": {},
   "outputs": [
    {
     "data": {
      "text/plain": [
       "27"
      ]
     },
     "execution_count": 30,
     "metadata": {},
     "output_type": "execute_result"
    }
   ],
   "source": [
    "f= lambda x: x**3\n",
    "f(3)"
   ]
  },
  {
   "cell_type": "markdown",
   "metadata": {},
   "source": [
    "## Map <br>\n",
    "<p>The map function allows you to iterate over an entire list while running a function on each item of the list. This is why the map function works well with lambda's, because it simplifies things and you write less lines of code.<br>The syntax for a map function is \"map(function to be used, list to be used)\"<br>However, you must be careful, as the map function returns a map object, not a list. To turn it into a list we use the list() type conversion.</p>"
   ]
  },
  {
   "cell_type": "markdown",
   "metadata": {},
   "source": [
    "#### Syntax"
   ]
  },
  {
   "cell_type": "code",
   "execution_count": 33,
   "metadata": {
    "scrolled": true
   },
   "outputs": [
    {
     "name": "stdout",
     "output_type": "stream",
     "text": [
      "<map object at 0x0000026977304850>\n",
      "[(36, 64), (16, 9), (90, 1), (77, 55), (46, 3), (22, 63), (20, 24), (4, 53)]\n"
     ]
    }
   ],
   "source": [
    "#map(function,iterable)\n",
    "#an iterable is a list, dict, tuple, set. etc\n",
    "#a map is usually used with a pre-defined function, but we can use lambdas as well\n",
    "def squared(num,num2):\n",
    "    if num < 10 and num2 < 10:\n",
    "        return num**2, num2**2\n",
    "    else:\n",
    "        return num, num2\n",
    "        \n",
    "numbers=[6,4,90,77,46,22,20,4]\n",
    "more_nums=[8,3,1,55,3,63,24,53]\n",
    "\n",
    "squared_map = map(squared,numbers,more_nums)\n",
    "print(squared_map)\n",
    "squared_map1=list(map(squared, numbers, more_nums)) #it takes one number from each list at a time and runs them through\n",
    "                                                    #the function in sets\n",
    "print(squared_map1)"
   ]
  },
  {
   "cell_type": "markdown",
   "metadata": {},
   "source": [
    "#### Using Lambda's with Map"
   ]
  },
  {
   "cell_type": "code",
   "execution_count": 36,
   "metadata": {},
   "outputs": [
    {
     "name": "stdout",
     "output_type": "stream",
     "text": [
      "[(36, 64), (16, 9), (90, 1), (77, 55), (46, 3), (22, 63), (20, 24), (4, 53)]\n"
     ]
    }
   ],
   "source": [
    "#map(lambda x: do sonmthing, iterable)\n",
    "#using a map with lambda happens inline or or one line\n",
    "#list(map(lambda x: x*2, nums))\n",
    "list_nums_lambda=list(map(lambda x ,y: (x**2, y**2) if x<10 and y<10 else (x,y), numbers, more_nums))\n",
    "print(list_nums_lambda)"
   ]
  },
  {
   "cell_type": "markdown",
   "metadata": {},
   "source": [
    "#### In-Class Exercise #2 <br>\n",
    "<p>Use the map function to double each number and minus it by one in the list by using a lambda function</p>"
   ]
  },
  {
   "cell_type": "code",
   "execution_count": 3,
   "metadata": {},
   "outputs": [
    {
     "name": "stdout",
     "output_type": "stream",
     "text": [
      "[1, 3, 5, 7, 9, 11, 13, 15]\n",
      "[(2, 0), (4, 1), (6, 2), (8, 3), (10, 4), (12, 5), (14, 6), (16, 7)]\n"
     ]
    }
   ],
   "source": [
    "num=[1,2,3,4,5,6,7,8]\n",
    "\n",
    "double_minus=list(map(lambda x: (x*2)-1,num))\n",
    "print(double_minus)\n",
    "\n",
    "#or\n",
    "\n",
    "double_minus=list(map(lambda x: (x*2 , x-1),num))\n",
    "print(double_minus)"
   ]
  },
  {
   "cell_type": "markdown",
   "metadata": {},
   "source": [
    "## Filter() <br>\n",
    "<p>Filter's are similar to the map function, where you're able to pass a function argument and a list argument and filter out something from the list based on the conditions passed. Similar to the map function, it returns a filter object, so you need to type convert it to a list()</p>"
   ]
  },
  {
   "cell_type": "markdown",
   "metadata": {},
   "source": [
    "#### Syntax"
   ]
  },
  {
   "cell_type": "code",
   "execution_count": 47,
   "metadata": {},
   "outputs": [
    {
     "name": "stdout",
     "output_type": "stream",
     "text": [
      "['Eric']\n"
     ]
    }
   ],
   "source": [
    "names=[\"Andrew\",\"Kenny\",\"Nick\",\"Chase\",\"Eric\",\"Kingsley\"]\n",
    "\n",
    "def a_names(name):\n",
    "    if name[0].lower()== \"e\":\n",
    "        return True\n",
    "    else:\n",
    "        return False\n",
    "    \n",
    "new_names_list=list(filter(a_names,names))\n",
    "print(new_names_list)"
   ]
  },
  {
   "cell_type": "markdown",
   "metadata": {},
   "source": [
    "#### Using Lambda's with Filter()"
   ]
  },
  {
   "cell_type": "code",
   "execution_count": 48,
   "metadata": {},
   "outputs": [
    {
     "name": "stdout",
     "output_type": "stream",
     "text": [
      "['Andrew']\n"
     ]
    }
   ],
   "source": [
    "new_names_lambda = list(filter(lambda name: True if name[0].lower()=='a' else False, names))\n",
    "print(new_names_lambda)"
   ]
  },
  {
   "cell_type": "markdown",
   "metadata": {},
   "source": [
    "#### In-Class Exercise #3 <br>\n",
    "<p>Filter out all the numbers that are below the mean of the list.<br><b>Hint: Import the 'statistics' module</b></p>"
   ]
  },
  {
   "cell_type": "code",
   "execution_count": 60,
   "metadata": {},
   "outputs": [
    {
     "name": "stdout",
     "output_type": "stream",
     "text": [
      "3.5\n",
      "[4, 5, 6]\n"
     ]
    }
   ],
   "source": [
    "import statistics\n",
    "numbs=[1,2,3,4,5,6]\n",
    "mean= sum(numbs)/6\n",
    "print(mean)\n",
    "answer=list(filter(lambda x:x >= mean,numbs))\n",
    "print(answer)"
   ]
  },
  {
   "cell_type": "markdown",
   "metadata": {},
   "source": [
    "## Reduce() <br>\n",
    "<p>Be very careful when using this function, as of Python 3 it's been moved to the 'functools' library and no longer is a built-in function.<br>The creator of Python himself, says to just use a for loop instead.</p>"
   ]
  },
  {
   "cell_type": "markdown",
   "metadata": {},
   "source": [
    "#### Syntax"
   ]
  },
  {
   "cell_type": "code",
   "execution_count": 7,
   "metadata": {},
   "outputs": [
    {
     "name": "stdout",
     "output_type": "stream",
     "text": [
      "25\n",
      "-23\n"
     ]
    }
   ],
   "source": [
    "from functools import reduce\n",
    "#reduce(function,iterable)\n",
    "\n",
    "numbers=[1,2,3,4,5,6,4]\n",
    "\n",
    "def sum(num1, num2):\n",
    "    return num1 + num2\n",
    "\n",
    "answer=reduce(sum,numbers) #this is basically a for loop that runs items in a list through a machine.\n",
    "#in this case it runs every number throught the function (sum) and adds everything together.\n",
    "print(answer)\n",
    "\n",
    "def sub(num1,num2):\n",
    "    return num1- num2\n",
    "new_answer= reduce(sub, numbers)\n",
    "print(new_answer)"
   ]
  },
  {
   "cell_type": "markdown",
   "metadata": {},
   "source": [
    "#### Using Lambda's with Reduce()"
   ]
  },
  {
   "cell_type": "code",
   "execution_count": 9,
   "metadata": {},
   "outputs": [
    {
     "name": "stdout",
     "output_type": "stream",
     "text": [
      "-23\n"
     ]
    }
   ],
   "source": [
    "subtract= reduce(lambda x , y: x-y,numbers)\n",
    "print(subtract)"
   ]
  },
  {
   "cell_type": "markdown",
   "metadata": {},
   "source": [
    "#### In-Class Exercise #4 <br>\n",
    "<p>Use the reduce function to multiply the numbers in the list below together with a lambda function.</p>"
   ]
  },
  {
   "cell_type": "code",
   "execution_count": 10,
   "metadata": {},
   "outputs": [
    {
     "name": "stdout",
     "output_type": "stream",
     "text": [
      "24\n"
     ]
    }
   ],
   "source": [
    "my_list=[1, 2, 3, 4]\n",
    "\n",
    "multi= reduce(lambda x, y: x*y,my_list)\n",
    "print(multi)\n"
   ]
  },
  {
   "cell_type": "markdown",
   "metadata": {},
   "source": [
    "## Recursion <br>\n",
    "<p>Recursion means that a function is calling itself, so it contanstly executes until a base case is reached. It will then push the returning values back up the chain until the function is complete. A prime example of recursion is computing factorials... such that 5! (factorial) is 5*4*3*2*1 which equals 120.</p>"
   ]
  },
  {
   "cell_type": "markdown",
   "metadata": {},
   "source": [
    "#### Implementing a Base Case"
   ]
  },
  {
   "cell_type": "code",
   "execution_count": 9,
   "metadata": {},
   "outputs": [
    {
     "name": "stdout",
     "output_type": "stream",
     "text": [
      "addnums(5)=5 + addnums(4)\n",
      "addnums(4)=4 + addnums(3)\n",
      "addnums(3)=3 + addnums(2)\n",
      "addnums(2)=2 + addnums(1)\n",
      "addnums(1) = 1\n"
     ]
    },
    {
     "data": {
      "text/plain": [
       "15"
      ]
     },
     "execution_count": 9,
     "metadata": {},
     "output_type": "execute_result"
    }
   ],
   "source": [
    "def addnums(number):\n",
    "    #here is your base case\n",
    "    if number <= 1:\n",
    "        print('addnums(1) = 1')\n",
    "        return number\n",
    "    else: \n",
    "        print( f\"addnums({number})={number} + addnums({number - 1})\")\n",
    "        return number + addnums(number - 1)\n",
    "    \n",
    "addnums(5)"
   ]
  },
  {
   "cell_type": "markdown",
   "metadata": {},
   "source": [
    "#### Writing a Factorial Function"
   ]
  },
  {
   "cell_type": "code",
   "execution_count": 10,
   "metadata": {},
   "outputs": [
    {
     "data": {
      "text/plain": [
       "5040"
      ]
     },
     "execution_count": 10,
     "metadata": {},
     "output_type": "execute_result"
    }
   ],
   "source": [
    "# 5! means 5 factored (5 * 4 * 3 * 2 * 1)\n",
    "def factorial(num):\n",
    "    if num <= 1:\n",
    "        return 1\n",
    "    else:\n",
    "        return num * factorial(num - 1)#this is abasically a loop that says, \"untill we reach the numer 1, keep \n",
    "                                        #keep going\" and it does this by calling on itself.\n",
    "        \n",
    "factorial(7)"
   ]
  },
  {
   "cell_type": "markdown",
   "metadata": {},
   "source": [
    "#### In-Class Exercise #5 <br>\n",
    "<p>Write a recursive function that subtracts all numbers to the argument given.</p>"
   ]
  },
  {
   "cell_type": "code",
   "execution_count": 32,
   "metadata": {},
   "outputs": [
    {
     "name": "stdout",
     "output_type": "stream",
     "text": [
      "reduction(50)=50 - reduction(49)\n",
      "reduction(49)=49 - reduction(48)\n",
      "reduction(48)=48 - reduction(47)\n",
      "reduction(47)=47 - reduction(46)\n",
      "reduction(46)=46 - reduction(45)\n",
      "reduction(45)=45 - reduction(44)\n",
      "reduction(44)=44 - reduction(43)\n",
      "reduction(43)=43 - reduction(42)\n",
      "reduction(42)=42 - reduction(41)\n",
      "reduction(41)=41 - reduction(40)\n",
      "reduction(40)=40 - reduction(39)\n",
      "reduction(39)=39 - reduction(38)\n",
      "reduction(38)=38 - reduction(37)\n",
      "reduction(37)=37 - reduction(36)\n",
      "reduction(36)=36 - reduction(35)\n",
      "reduction(35)=35 - reduction(34)\n",
      "reduction(34)=34 - reduction(33)\n",
      "reduction(33)=33 - reduction(32)\n",
      "reduction(32)=32 - reduction(31)\n",
      "reduction(31)=31 - reduction(30)\n",
      "reduction(30)=30 - reduction(29)\n",
      "reduction(29)=29 - reduction(28)\n",
      "reduction(28)=28 - reduction(27)\n",
      "reduction(27)=27 - reduction(26)\n",
      "reduction(26)=26 - reduction(25)\n",
      "reduction(25)=25 - reduction(24)\n",
      "reduction(24)=24 - reduction(23)\n",
      "reduction(23)=23 - reduction(22)\n",
      "reduction(22)=22 - reduction(21)\n",
      "reduction(21)=21 - reduction(20)\n",
      "reduction(20)=20 - reduction(19)\n",
      "reduction(19)=19 - reduction(18)\n",
      "reduction(18)=18 - reduction(17)\n",
      "reduction(17)=17 - reduction(16)\n",
      "reduction(16)=16 - reduction(15)\n",
      "reduction(15)=15 - reduction(14)\n",
      "reduction(14)=14 - reduction(13)\n",
      "reduction(13)=13 - reduction(12)\n",
      "reduction(12)=12 - reduction(11)\n",
      "reduction(11)=11 - reduction(10)\n",
      "reduction(10)=10 - reduction(9)\n",
      "reduction(9)=9 - reduction(8)\n",
      "reduction(8)=8 - reduction(7)\n",
      "reduction(7)=7 - reduction(6)\n",
      "reduction(6)=6 - reduction(5)\n",
      "reduction(5)=5 - reduction(4)\n",
      "reduction(4)=4 - reduction(3)\n",
      "reduction(3)=3 - reduction(2)\n",
      "reduction(2)=2 - reduction(1)\n",
      "all done\n"
     ]
    },
    {
     "data": {
      "text/plain": [
       "25"
      ]
     },
     "execution_count": 32,
     "metadata": {},
     "output_type": "execute_result"
    }
   ],
   "source": [
    "def reduction(number):\n",
    "    if number == 1:\n",
    "        print(\"all done\")\n",
    "        return number\n",
    "    else:\n",
    "        print(f'reduction({number})={number} - reduction({number-1})')\n",
    "        return number - reduction(number-1)\n",
    "\n",
    "    \n",
    "reduction(50)"
   ]
  },
  {
   "cell_type": "markdown",
   "metadata": {},
   "source": [
    "## Generators <br>\n",
    "<p>Generators are a type of iterable, like lists or tuples. They do not allow indexing, but they can still be iterated through with for loops. They are created using functions and the yield statement.</p>"
   ]
  },
  {
   "cell_type": "markdown",
   "metadata": {},
   "source": [
    "#### Yield Keyword <br>\n",
    "<p>The yield keyword denotes a generator, it doesn't return so it won't leave the function and reset all variables in the function scope, instead it yields the number back to the caller.</p>"
   ]
  },
  {
   "cell_type": "code",
   "execution_count": 21,
   "metadata": {},
   "outputs": [
    {
     "name": "stdout",
     "output_type": "stream",
     "text": [
      "1\n",
      "4\n",
      "7\n",
      "10\n",
      "13\n",
      "16\n",
      "19\n",
      "22\n",
      "25\n",
      "28\n",
      "31\n",
      "34\n"
     ]
    }
   ],
   "source": [
    "def my_range(stop, start, step=3):\n",
    "    while start<stop:\n",
    "        yield start #this word yield denotes or initializes a generator\n",
    "        start += step\n",
    "for i in my_range(36,1):#the step number is defaulted in the function already\n",
    "    my_generator_value= i\n",
    "    print(my_generator_value)\n",
    "###!!!!! generators allow you to create functions that create iterators "
   ]
  },
  {
   "cell_type": "markdown",
   "metadata": {},
   "source": [
    "#### Infinite Generator"
   ]
  },
  {
   "cell_type": "code",
   "execution_count": null,
   "metadata": {},
   "outputs": [],
   "source": [
    "# bad, never create infinite loops"
   ]
  },
  {
   "cell_type": "markdown",
   "metadata": {},
   "source": [
    "#### In-Class Exercise #6 <br>\n",
    "<p>Create a generator that takes a number argument and yields that number squared, then prints each number squared until zero is reached.</p>"
   ]
  },
  {
   "cell_type": "code",
   "execution_count": 23,
   "metadata": {},
   "outputs": [
    {
     "name": "stdout",
     "output_type": "stream",
     "text": [
      "25\n",
      "16\n",
      "9\n",
      "4\n",
      "1\n"
     ]
    }
   ],
   "source": [
    "def squared(stop,start,step=1):\n",
    "    while start > stop:\n",
    "        yield start\n",
    "        start -= 1\n",
    "        \n",
    "for i in squared(0,5):\n",
    "    my_generator_value = i**2\n",
    "    \n",
    "    print(my_generator_value)\n"
   ]
  },
  {
   "cell_type": "markdown",
   "metadata": {},
   "source": [
    "# Exercises"
   ]
  },
  {
   "cell_type": "markdown",
   "metadata": {},
   "source": [
    "### Exercise #1 <br>\n",
    "<p>Filter out all of the empty strings from the list below</p>\n",
    "\n",
    "`Output: ['Argentina', 'San Diego', 'Boston', 'New York']`"
   ]
  },
  {
   "cell_type": "code",
   "execution_count": 36,
   "metadata": {},
   "outputs": [
    {
     "name": "stdout",
     "output_type": "stream",
     "text": [
      "['Argentina', 'San Diego', 'Boston', 'New York']\n"
     ]
    }
   ],
   "source": [
    "places = [\" \",\"Argentina\", \" \", \"San Diego\",\"\",\"  \",\"\",\"Boston\",\"New York\"]\n",
    "def nospace(space):\n",
    "    if space == \"  \":\n",
    "        return False\n",
    "    elif space == \" \":\n",
    "        return False\n",
    "    elif space == \"\":\n",
    "        return False\n",
    "    else:\n",
    "        return True\n",
    "new_list=list(filter(nospace, places))\n",
    "print(new_list)\n",
    "\n"
   ]
  },
  {
   "cell_type": "markdown",
   "metadata": {},
   "source": [
    "### Exercise #2 <br>\n",
    "<p>Write an anonymous function that sorts this list by the last name...<br><b>Hint: Use the \".sort()\" method and access the key\"</b></p>\n",
    "\n",
    "`Output: ['Victor aNisimov', 'Gary A.J. Bernstein', 'Joel Carter', 'Andrew P. Garfield', 'David hassELHOFF']`"
   ]
  },
  {
   "cell_type": "code",
   "execution_count": 40,
   "metadata": {},
   "outputs": [
    {
     "name": "stdout",
     "output_type": "stream",
     "text": [
      "['Victor aNisimov', 'Gary A.J. Bernstein', 'Joel Carter', 'Andrew P. Garfield', 'David hassELHOFF']\n"
     ]
    }
   ],
   "source": [
    "author = [\"Joel Carter\", \"Victor aNisimov\", \"Andrew P. Garfield\",\"David hassELHOFF\",\"Gary A.J. Bernstein\"]\n",
    "\n",
    "author = [\"Joel Carter\", \"Victor aNisimov\", \"Andrew P. Garfield\", \"David hassELHOFF\", \"Gary A.J. Bernstein\"]\n",
    "\n",
    "sorted_authors = sorted(author, key = lambda name: name.split()[-1].lower())\n",
    "print(sorted_authors)\n"
   ]
  },
  {
   "cell_type": "markdown",
   "metadata": {},
   "source": [
    "### Exercise #3 <br>\n",
    "<p>Convert the list below from Celsius to Farhenheit, using the map function with a lambda...</p>\n",
    "\n",
    "`Output: [('Nashua', 89.6), ('Boston', 53.6), ('Los Angelos', 111.2), ('Miami', 84.2)]\n",
    "`"
   ]
  },
  {
   "cell_type": "code",
   "execution_count": 41,
   "metadata": {},
   "outputs": [
    {
     "name": "stdout",
     "output_type": "stream",
     "text": [
      "[('Nashua', 89.6), ('Boston', 53.6), ('Los Angelos', 111.2), ('Miami', 84.2)]\n"
     ]
    }
   ],
   "source": [
    "# F = (9/5)*C + 32\n",
    "places = [('Nashua',32),(\"Boston\",12),(\"Los Angelos\",44),(\"Miami\",29)]\n",
    "\n",
    "# Conversion function\n",
    "def celsius_to_fahrenheit(c):\n",
    "    return (c * 9/5) + 32\n",
    "\n",
    "\n",
    "converted_places = list(map(lambda x: (x[0], celsius_to_fahrenheit(x[1])), places))\n",
    "# this line seperates the name of the town by its index, then applys the function to the thing in the second index.\n",
    "print(converted_places)\n",
    "\n"
   ]
  },
  {
   "cell_type": "markdown",
   "metadata": {},
   "source": [
    "### Exercise #4 <br>\n",
    "<p>Write a recursion function to perform the fibonacci sequence up to the number passed in.</p>\n",
    "\n",
    "`Output for fib(5) => \n",
    "Iteration 0: 1\n",
    "Iteration 1: 1\n",
    "Iteration 2: 2\n",
    "Iteration 3: 3\n",
    "Iteration 4: 5\n",
    "Iteration 5: 8`"
   ]
  },
  {
   "cell_type": "code",
   "execution_count": 46,
   "metadata": {
    "scrolled": true
   },
   "outputs": [
    {
     "name": "stdout",
     "output_type": "stream",
     "text": [
      "Iteration 0: 1\n",
      "Iteration 1: 1\n",
      "Iteration 2: 2\n",
      "Iteration 3: 3\n",
      "Iteration 4: 5\n",
      "Iteration 5: 8\n"
     ]
    }
   ],
   "source": [
    "def fib(n):\n",
    "    if n < 0:\n",
    "        return\n",
    "    elif n == 0:\n",
    "        print(\"Iteration 0: 1\")\n",
    "        return\n",
    "    elif n == 1:\n",
    "        print(\"Iteration 0: 1\")\n",
    "        print(\"Iteration 1: 1\")\n",
    "        return\n",
    "    else:\n",
    "        sequence = [1, 1]\n",
    "        for i in range(2, n + 1):\n",
    "            next_value = sequence[-1] + sequence[-2]\n",
    "            sequence.append(next_value)\n",
    "\n",
    "        for i, value in enumerate(sequence):\n",
    "            print(f\"Iteration {i}: {value}\")\n",
    "fib(5)"
   ]
  }
 ],
 "metadata": {
  "kernelspec": {
   "display_name": "Python 3 (ipykernel)",
   "language": "python",
   "name": "python3"
  },
  "language_info": {
   "codemirror_mode": {
    "name": "ipython",
    "version": 3
   },
   "file_extension": ".py",
   "mimetype": "text/x-python",
   "name": "python",
   "nbconvert_exporter": "python",
   "pygments_lexer": "ipython3",
   "version": "3.11.3"
  }
 },
 "nbformat": 4,
 "nbformat_minor": 2
}
